{
  "cells": [
    {
      "cell_type": "markdown",
      "metadata": {
        "id": "2AOxp2-ac988"
      },
      "source": [
        "# Intent Classification using LSTM\n",
        "\n"
      ]
    },
    {
      "cell_type": "code",
      "source": [
        "from google.colab import drive\n",
        "drive.mount('/content/drive')"
      ],
      "metadata": {
        "colab": {
          "base_uri": "https://localhost:8080/"
        },
        "id": "OpFQzTLRpqwj",
        "outputId": "09075939-e0ba-4382-d127-cc0bd312591a"
      },
      "execution_count": 2,
      "outputs": [
        {
          "output_type": "stream",
          "name": "stdout",
          "text": [
            "Mounted at /content/drive\n"
          ]
        }
      ]
    },
    {
      "cell_type": "code",
      "source": [
        "cd /content/drive/MyDrive/Intent_datasets/"
      ],
      "metadata": {
        "colab": {
          "base_uri": "https://localhost:8080/"
        },
        "id": "vOuB0tEWqsoy",
        "outputId": "5a949fba-58bc-4b29-ed54-c757d08c1254"
      },
      "execution_count": 3,
      "outputs": [
        {
          "output_type": "stream",
          "name": "stdout",
          "text": [
            "/content/drive/.shortcut-targets-by-id/1hiSbEsD7D04nlYfvIW5ZZy6OaI57PR1U/Intent_datasets\n"
          ]
        }
      ]
    },
    {
      "cell_type": "code",
      "source": [
        "import warnings\n",
        "warnings.simplefilter(action='ignore', category=FutureWarning)\n"
      ],
      "metadata": {
        "id": "IPF5VHloreIr"
      },
      "execution_count": 4,
      "outputs": []
    },
    {
      "cell_type": "code",
      "execution_count": 5,
      "metadata": {
        "execution": {
          "iopub.execute_input": "2022-09-23T08:06:44.464333Z",
          "iopub.status.busy": "2022-09-23T08:06:44.463179Z",
          "iopub.status.idle": "2022-09-23T08:06:47.251269Z",
          "shell.execute_reply": "2022-09-23T08:06:47.250110Z",
          "shell.execute_reply.started": "2022-09-23T08:06:44.464293Z"
        },
        "trusted": true,
        "id": "ypddTNb9c99G",
        "colab": {
          "base_uri": "https://localhost:8080/"
        },
        "outputId": "f3d49043-a155-446f-f83c-7b62a0e14775"
      },
      "outputs": [
        {
          "output_type": "stream",
          "name": "stderr",
          "text": [
            "[nltk_data] Downloading package stopwords to /root/nltk_data...\n",
            "[nltk_data]   Unzipping corpora/stopwords.zip.\n"
          ]
        }
      ],
      "source": [
        "import tensorflow as tf\n",
        "\n",
        "\n",
        "import pandas as pd\n",
        "import numpy as np\n",
        "import json\n",
        "import gc\n",
        "\n",
        "from sklearn.model_selection import train_test_split\n",
        "\n",
        "import re\n",
        "import nltk\n",
        "\n",
        "from plotly.offline import iplot\n",
        "import matplotlib.pyplot as plt\n",
        "import seaborn as sns\n",
        "from tensorflow.keras.preprocessing.text import Tokenizer\n",
        "from tensorflow.keras.preprocessing.sequence import pad_sequences\n",
        "from tensorflow.keras.models import Sequential\n",
        "from tensorflow.keras.layers import Dense, Embedding, LSTM, SpatialDropout1D\n",
        "from sklearn.model_selection import train_test_split\n",
        "from keras.utils.np_utils import to_categorical\n",
        "from tensorflow.keras.callbacks import EarlyStopping\n",
        "from tensorflow.keras.layers import Dropout\n",
        "from nltk.corpus import stopwords\n",
        "from nltk import word_tokenize\n",
        "\n",
        "\n",
        "from nltk.corpus import stopwords\n",
        "nltk.download('stopwords')\n",
        "stopw = stopwords.words('english')\n",
        "\n",
        "import seaborn as sns\n",
        "\n",
        "from tqdm import tqdm"
      ]
    },
    {
      "cell_type": "markdown",
      "source": [
        "# Data Preparation"
      ],
      "metadata": {
        "id": "GN7VV1hZbroK"
      }
    },
    {
      "cell_type": "code",
      "source": [
        "df_ins = pd.read_json(\"is_train.json\")\n",
        "print (len(df_ins))"
      ],
      "metadata": {
        "colab": {
          "base_uri": "https://localhost:8080/"
        },
        "id": "77VcvKOdlRRI",
        "outputId": "e1d4fedf-ac6c-41f7-df68-2db8e6b65637"
      },
      "execution_count": 6,
      "outputs": [
        {
          "output_type": "stream",
          "name": "stdout",
          "text": [
            "15000\n"
          ]
        }
      ]
    },
    {
      "cell_type": "code",
      "source": [
        "#Columns and datatypes\n",
        "df_ins.info()"
      ],
      "metadata": {
        "colab": {
          "base_uri": "https://localhost:8080/"
        },
        "id": "8wAFIkPphC8r",
        "outputId": "7605692c-7f29-42ba-fe68-17972817162a"
      },
      "execution_count": 7,
      "outputs": [
        {
          "output_type": "stream",
          "name": "stdout",
          "text": [
            "<class 'pandas.core.frame.DataFrame'>\n",
            "RangeIndex: 15000 entries, 0 to 14999\n",
            "Data columns (total 2 columns):\n",
            " #   Column  Non-Null Count  Dtype \n",
            "---  ------  --------------  ----- \n",
            " 0   0       15000 non-null  object\n",
            " 1   1       15000 non-null  object\n",
            "dtypes: object(2)\n",
            "memory usage: 234.5+ KB\n"
          ]
        }
      ]
    },
    {
      "cell_type": "markdown",
      "source": [
        "# Undersampling"
      ],
      "metadata": {
        "id": "3RKRFfpEhKXf"
      }
    },
    {
      "cell_type": "markdown",
      "source": [],
      "metadata": {
        "id": "AsqU14LMhGgK"
      }
    },
    {
      "cell_type": "code",
      "source": [
        "# select 10 records from each specific intents\n",
        "df_ins = df_ins.groupby(1).sample(10).reset_index(drop=True)\n",
        "print (len(df_ins))"
      ],
      "metadata": {
        "colab": {
          "base_uri": "https://localhost:8080/"
        },
        "id": "8Ee4JPVdSQl1",
        "outputId": "3367c7cf-9d87-44cd-c372-46808541b832"
      },
      "execution_count": 8,
      "outputs": [
        {
          "output_type": "stream",
          "name": "stdout",
          "text": [
            "1500\n"
          ]
        }
      ]
    },
    {
      "cell_type": "code",
      "source": [
        "df_ins[1] = \"ins\""
      ],
      "metadata": {
        "id": "mTRH4AMQXvKe"
      },
      "execution_count": 9,
      "outputs": []
    },
    {
      "cell_type": "code",
      "source": [
        "df_oos_train = pd.read_json(\"oos_train.json\")\n",
        "df_oos_val = pd.read_json(\"oos_val.json\")\n",
        "df_oos_test = pd.read_json(\"oos_test.json\")\n",
        "\n",
        "df_oos = df_oos_train.append(df_oos_val).append(df_oos_test)\n",
        "\n",
        "# Merge in_scope and out-scope data\n",
        "df = df_ins.append(df_oos)\n",
        "\n",
        "\n",
        "\n"
      ],
      "metadata": {
        "id": "e46xAYkjoIyP"
      },
      "execution_count": 10,
      "outputs": []
    },
    {
      "cell_type": "code",
      "source": [
        "category_count = df[1].value_counts()\n",
        "\n",
        "categories = category_count.index\n",
        "\n",
        "categories"
      ],
      "metadata": {
        "colab": {
          "base_uri": "https://localhost:8080/"
        },
        "id": "Gr6Wgmt7Bas9",
        "outputId": "2d8205b1-3791-4c52-ef60-4bf7a23aab78"
      },
      "execution_count": 11,
      "outputs": [
        {
          "output_type": "execute_result",
          "data": {
            "text/plain": [
              "Index(['ins', 'oos'], dtype='object')"
            ]
          },
          "metadata": {},
          "execution_count": 11
        }
      ]
    },
    {
      "cell_type": "code",
      "source": [
        "fig = plt.figure(figsize= (12, 5))\n",
        "\n",
        "ax = fig.add_subplot(111)\n",
        "\n",
        "sns.barplot(x = category_count.index, y = category_count )\n",
        "\n",
        "for a, p in enumerate(ax.patches):\n",
        "    ax.annotate(f'{categories[a]}\\n' + format(p.get_height(), '.0f'), xy = (p.get_x() + p.get_width() / 2.0, p.get_height()), xytext = (0,-25), size = 13, color = 'white' , ha = 'center', va = 'center', textcoords = 'offset points', bbox = dict(boxstyle = 'round', facecolor='none',edgecolor='white', alpha = 0.5) )\n",
        "    \n",
        "plt.xlabel('Categories', size = 15)\n",
        "\n",
        "plt.ylabel('The Number of Data', size= 15)\n",
        "\n",
        "plt.xticks(size = 12)\n",
        "\n",
        "plt.title(\"The number of data by Categories\" , size = 18)\n",
        "\n",
        "plt.show()"
      ],
      "metadata": {
        "colab": {
          "base_uri": "https://localhost:8080/",
          "height": 502
        },
        "id": "C-9nHpzFB1MR",
        "outputId": "dc843a9d-b5ff-4485-d51f-a9e589bbb9e0"
      },
      "execution_count": 12,
      "outputs": [
        {
          "output_type": "display_data",
          "data": {
            "text/plain": [
              "<Figure size 1200x500 with 1 Axes>"
            ],
            "image/png": "[encoded data removed]"
          },
          "metadata": {}
        }
      ]
    },
    {
      "cell_type": "markdown",
      "source": [
        "#Convert labels to numeric"
      ],
      "metadata": {
        "id": "3jmzVHCHi9Vl"
      }
    },
    {
      "cell_type": "code",
      "source": [
        "df[1].loc[df[1]==\"ins\"]=0\n",
        "df[1].loc[df[1]==\"oos\"]=1\n"
      ],
      "metadata": {
        "id": "QuIrpugMsg3c"
      },
      "execution_count": 13,
      "outputs": []
    },
    {
      "cell_type": "code",
      "source": [
        "df.rename(columns={0 : 'Text', 1: 'Label'}, inplace=True)"
      ],
      "metadata": {
        "id": "3b2ChQQfDJDV"
      },
      "execution_count": 14,
      "outputs": []
    },
    {
      "cell_type": "code",
      "source": [
        "df[\"Label\"].value_counts()"
      ],
      "metadata": {
        "colab": {
          "base_uri": "https://localhost:8080/"
        },
        "id": "hUQ4dqNjtcyI",
        "outputId": "111f4623-0a01-4ea5-c697-b892436a682d"
      },
      "execution_count": 15,
      "outputs": [
        {
          "output_type": "execute_result",
          "data": {
            "text/plain": [
              "0    1500\n",
              "1    1200\n",
              "Name: Label, dtype: int64"
            ]
          },
          "metadata": {},
          "execution_count": 15
        }
      ]
    },
    {
      "cell_type": "code",
      "source": [
        "df = df.reset_index(drop=True)\n",
        "REPLACE_BY_SPACE_RE = re.compile('[/(){}\\[\\]\\|@,;]')\n",
        "BAD_SYMBOLS_RE = re.compile('[^0-9a-z #+_]')\n",
        "STOPWORDS = set(stopwords.words('english'))\n",
        "\n",
        "def data_cleaning(text):\n",
        "    \"\"\"\n",
        "        text: a string\n",
        "        \n",
        "        return: modified initial string\n",
        "    \"\"\"\n",
        "    text = text.lower() # lowercase text\n",
        "    text = REPLACE_BY_SPACE_RE.sub(' ', text) # replace REPLACE_BY_SPACE_RE symbols by space in text. substitute the matched string in REPLACE_BY_SPACE_RE with space.\n",
        "    text = BAD_SYMBOLS_RE.sub('', text) # remove symbols which are in BAD_SYMBOLS_RE from text. substitute the matched string in BAD_SYMBOLS_RE with nothing. \n",
        "    text = text.replace('x', '')\n",
        "#    text = re.sub(r'\\W+', '', text)\n",
        "    text = ' '.join(word for word in text.split() if word not in STOPWORDS) # remove stopwors from text\n",
        "    return text\n",
        "df[\"Text\"] = df[\"Text\"].apply(data_cleaning)"
      ],
      "metadata": {
        "id": "mG-PXrKIBKsd"
      },
      "execution_count": 16,
      "outputs": []
    },
    {
      "cell_type": "code",
      "source": [
        "# The maximum number of words to be used. (most frequent)\n",
        "MAX_NB_WORDS = 40000\n",
        "# Max number of words in each complaint.\n",
        "MAX_SEQUENCE_LENGTH = 250\n",
        "# This is fixed.\n",
        "EMBEDDING_DIM = 100\n",
        "\n",
        "tokenizer = Tokenizer(num_words=MAX_NB_WORDS, filters='!\"#$%&()*+,-./:;<=>?@[\\]^_`{|}~', lower=True)\n",
        "tokenizer.fit_on_texts(df[\"Text\"].values)\n",
        "word_index = tokenizer.word_index\n",
        "print('Found %s unique tokens.' % len(word_index))"
      ],
      "metadata": {
        "colab": {
          "base_uri": "https://localhost:8080/"
        },
        "id": "pbEyTdYHBzSy",
        "outputId": "9bd3e360-3bc6-4b6b-e332-bb7f4fdda622"
      },
      "execution_count": 17,
      "outputs": [
        {
          "output_type": "stream",
          "name": "stdout",
          "text": [
            "Found 3337 unique tokens.\n"
          ]
        }
      ]
    },
    {
      "cell_type": "code",
      "source": [
        "X = tokenizer.texts_to_sequences(df['Text'].values)\n",
        "X = pad_sequences(X, maxlen=MAX_SEQUENCE_LENGTH)\n",
        "print('Shape of data tensor:', X.shape)"
      ],
      "metadata": {
        "colab": {
          "base_uri": "https://localhost:8080/"
        },
        "id": "_7PdhBnLD3Xu",
        "outputId": "d653e387-ba93-4e6e-b590-1404dffe8ff7"
      },
      "execution_count": 18,
      "outputs": [
        {
          "output_type": "stream",
          "name": "stdout",
          "text": [
            "Shape of data tensor: (2700, 250)\n"
          ]
        }
      ]
    },
    {
      "cell_type": "code",
      "source": [
        "# Y = np.asarray(df['Label'])\n",
        "\n",
        "Y = np.asarray(df['Label']).astype(np.float32)\n",
        "print('Shape of label tensor:', Y.shape)\n",
        "\n"
      ],
      "metadata": {
        "colab": {
          "base_uri": "https://localhost:8080/"
        },
        "id": "XZX7hLM7D6xT",
        "outputId": "f42e3638-5166-4b1a-d185-bd9a5677b4e1"
      },
      "execution_count": 19,
      "outputs": [
        {
          "output_type": "stream",
          "name": "stdout",
          "text": [
            "Shape of label tensor: (2700,)\n"
          ]
        }
      ]
    },
    {
      "cell_type": "markdown",
      "metadata": {
        "id": "LyiZZ5y9c99O"
      },
      "source": [
        "# Train Test Split"
      ]
    },
    {
      "cell_type": "code",
      "execution_count": 20,
      "metadata": {
        "id": "bpPgsR33c99O",
        "colab": {
          "base_uri": "https://localhost:8080/"
        },
        "outputId": "302fb41c-3a82-43dd-c602-d59941fd3bef"
      },
      "outputs": [
        {
          "output_type": "stream",
          "name": "stdout",
          "text": [
            "(2430, 250) (2430,)\n",
            "(270, 250) (270,)\n"
          ]
        }
      ],
      "source": [
        "X_train, X_test, Y_train, Y_test = train_test_split(X,Y, test_size = 0.10, random_state = 42)\n",
        "print(X_train.shape,Y_train.shape)\n",
        "print(X_test.shape,Y_test.shape)"
      ]
    },
    {
      "cell_type": "markdown",
      "metadata": {
        "id": "7QvE-7W9c99P"
      },
      "source": [
        "# Model Definition"
      ]
    },
    {
      "cell_type": "code",
      "execution_count": 21,
      "metadata": {
        "id": "smGLPymcc99P",
        "colab": {
          "base_uri": "https://localhost:8080/"
        },
        "outputId": "1de57fb8-7e7d-4859-f6ff-fa13bdca4ac1"
      },
      "outputs": [
        {
          "output_type": "stream",
          "name": "stdout",
          "text": [
            "Model: \"sequential\"\n",
            "_________________________________________________________________\n",
            " Layer (type)                Output Shape              Param #   \n",
            "=================================================================\n",
            " embedding (Embedding)       (None, 250, 100)          4000000   \n",
            "                                                                 \n",
            " lstm (LSTM)                 (None, 250, 50)           30200     \n",
            "                                                                 \n",
            " lstm_1 (LSTM)               (None, 32)                10624     \n",
            "                                                                 \n",
            " dense (Dense)               (None, 1)                 33        \n",
            "                                                                 \n",
            "=================================================================\n",
            "Total params: 4,040,857\n",
            "Trainable params: 4,040,857\n",
            "Non-trainable params: 0\n",
            "_________________________________________________________________\n",
            "None\n"
          ]
        }
      ],
      "source": [
        "model = Sequential()\n",
        "model.add(Embedding(MAX_NB_WORDS, EMBEDDING_DIM, input_length=X.shape[1]))\n",
        "# model.add(SpatialDropout1D(0.2))\n",
        "model.add(LSTM(50, dropout=0.2, recurrent_dropout=0.2, return_sequences=True))\n",
        "model.add(LSTM(32, dropout=0.2))\n",
        "model.add(Dense(1, activation='sigmoid'))\n",
        "model.compile(loss='binary_crossentropy', optimizer='adam', metrics=['accuracy'])\n",
        "print(model.summary())"
      ]
    },
    {
      "cell_type": "markdown",
      "source": [],
      "metadata": {
        "id": "-yQEUQUjmMj-"
      }
    },
    {
      "cell_type": "markdown",
      "source": [
        "# Model Training"
      ],
      "metadata": {
        "id": "3dciPXkrmQDW"
      }
    },
    {
      "cell_type": "code",
      "execution_count": 22,
      "metadata": {
        "id": "XXim-Cloc99P",
        "colab": {
          "base_uri": "https://localhost:8080/"
        },
        "outputId": "9e2029a3-5431-4402-ab5a-d1d6bb970b3b"
      },
      "outputs": [
        {
          "output_type": "stream",
          "name": "stdout",
          "text": [
            "Epoch 1/40\n",
            "35/35 [==============================] - 37s 853ms/step - loss: 0.6845 - accuracy: 0.5569 - val_loss: 0.6856 - val_accuracy: 0.5144\n",
            "Epoch 2/40\n",
            "35/35 [==============================] - 28s 789ms/step - loss: 0.6249 - accuracy: 0.6191 - val_loss: 0.5609 - val_accuracy: 0.6955\n",
            "Epoch 3/40\n",
            "35/35 [==============================] - 29s 841ms/step - loss: 0.3970 - accuracy: 0.8656 - val_loss: 0.4450 - val_accuracy: 0.7860\n",
            "Epoch 4/40\n",
            "35/35 [==============================] - 27s 774ms/step - loss: 0.1899 - accuracy: 0.9401 - val_loss: 0.3994 - val_accuracy: 0.8107\n",
            "Epoch 5/40\n",
            "35/35 [==============================] - 26s 742ms/step - loss: 0.1018 - accuracy: 0.9689 - val_loss: 0.4549 - val_accuracy: 0.8107\n",
            "Epoch 6/40\n",
            "35/35 [==============================] - 28s 780ms/step - loss: 0.0560 - accuracy: 0.9858 - val_loss: 0.4634 - val_accuracy: 0.8148\n",
            "Epoch 7/40\n",
            "35/35 [==============================] - 28s 792ms/step - loss: 0.0357 - accuracy: 0.9913 - val_loss: 0.5033 - val_accuracy: 0.8025\n"
          ]
        }
      ],
      "source": [
        "epochs = 40\n",
        "batch_size = 64\n",
        "\n",
        "history = model.fit(X_train, Y_train, epochs=epochs, batch_size=batch_size,validation_split=0.1,callbacks=[EarlyStopping(monitor='val_loss', patience=3, min_delta=0.0001)])"
      ]
    },
    {
      "cell_type": "code",
      "source": [
        "print (len(Y_test))"
      ],
      "metadata": {
        "colab": {
          "base_uri": "https://localhost:8080/"
        },
        "id": "2mM8nLufMIxU",
        "outputId": "0e74290c-4ba3-40f7-c66e-72157eb3ac93"
      },
      "execution_count": 23,
      "outputs": [
        {
          "output_type": "stream",
          "name": "stdout",
          "text": [
            "270\n"
          ]
        }
      ]
    },
    {
      "cell_type": "markdown",
      "metadata": {
        "id": "Rqn7HYwSc99P"
      },
      "source": [
        "# Model Validation"
      ]
    },
    {
      "cell_type": "code",
      "execution_count": 24,
      "metadata": {
        "id": "3MdAkpH1c99P",
        "colab": {
          "base_uri": "https://localhost:8080/",
          "height": 452
        },
        "outputId": "7730b976-4f37-4b59-de2d-e3695c278df2"
      },
      "outputs": [
        {
          "output_type": "display_data",
          "data": {
            "text/plain": [
              "<Figure size 640x480 with 1 Axes>"
            ],
            "image/png": "[encoded data removed]"
          },
          "metadata": {}
        }
      ],
      "source": [
        "plt.title('Loss')\n",
        "plt.plot(history.history['loss'], label='train')\n",
        "plt.plot(history.history['val_loss'], label='val')\n",
        "plt.legend()\n",
        "plt.show();"
      ]
    },
    {
      "cell_type": "code",
      "source": [
        "plt.title('Accuracy')\n",
        "plt.plot(history.history['accuracy'], label='train')\n",
        "plt.plot(history.history['val_accuracy'], label='val')\n",
        "plt.legend()\n",
        "plt.show();"
      ],
      "metadata": {
        "colab": {
          "base_uri": "https://localhost:8080/",
          "height": 452
        },
        "id": "uMw1R1w8GX-2",
        "outputId": "2bc94746-777a-4d8e-f277-da0c546713b9"
      },
      "execution_count": 25,
      "outputs": [
        {
          "output_type": "display_data",
          "data": {
            "text/plain": [
              "<Figure size 640x480 with 1 Axes>"
            ],
            "image/png": "[encoded data removed]"
          },
          "metadata": {}
        }
      ]
    },
    {
      "cell_type": "code",
      "source": [
        "accr = model.evaluate(X_test,Y_test)\n",
        "print('Test set\\n  Loss: {:0.3f}\\n  Accuracy: {:0.3f}'.format(accr[0],accr[1]))"
      ],
      "metadata": {
        "colab": {
          "base_uri": "https://localhost:8080/"
        },
        "id": "rVrBkHAHMdbo",
        "outputId": "7bb295c2-c52e-488c-ca48-1eb2ed42c230"
      },
      "execution_count": 26,
      "outputs": [
        {
          "output_type": "stream",
          "name": "stdout",
          "text": [
            "9/9 [==============================] - 1s 81ms/step - loss: 0.4411 - accuracy: 0.8407\n",
            "Test set\n",
            "  Loss: 0.441\n",
            "  Accuracy: 0.841\n"
          ]
        }
      ]
    },
    {
      "cell_type": "code",
      "source": [
        "predictions = model.predict(X_test)\n",
        "print (predictions[:5])"
      ],
      "metadata": {
        "colab": {
          "base_uri": "https://localhost:8080/"
        },
        "id": "PBOzkmveMf1j",
        "outputId": "37cab78e-e593-45ac-f0d7-d0fbd5c1f2bb"
      },
      "execution_count": 27,
      "outputs": [
        {
          "output_type": "stream",
          "name": "stdout",
          "text": [
            "9/9 [==============================] - 1s 76ms/step\n",
            "[[0.065842  ]\n",
            " [0.01504491]\n",
            " [0.98888016]\n",
            " [0.47322208]\n",
            " [0.05671247]]\n"
          ]
        }
      ]
    },
    {
      "cell_type": "code",
      "source": [
        "y_pred = []\n",
        "\n",
        "for element in predictions:\n",
        "  if element > 0.5:\n",
        "    y_pred.append(1)\n",
        "  else:\n",
        "    y_pred.append(0)"
      ],
      "metadata": {
        "id": "747iyS34V599"
      },
      "execution_count": 28,
      "outputs": []
    },
    {
      "cell_type": "code",
      "source": [
        "from sklearn.metrics import confusion_matrix, classification_report\n",
        "\n",
        "cm = confusion_matrix(Y_test, y_pred)\n",
        "cm "
      ],
      "metadata": {
        "colab": {
          "base_uri": "https://localhost:8080/"
        },
        "id": "kz8_zWG8I3y1",
        "outputId": "23abddcc-a1aa-4f64-ae85-ead5ea62e53f"
      },
      "execution_count": 29,
      "outputs": [
        {
          "output_type": "execute_result",
          "data": {
            "text/plain": [
              "array([[134,  21],\n",
              "       [ 22,  93]])"
            ]
          },
          "metadata": {},
          "execution_count": 29
        }
      ]
    },
    {
      "cell_type": "markdown",
      "source": [
        "#Confusion Matrix"
      ],
      "metadata": {
        "id": "yQXwhr08mbJy"
      }
    },
    {
      "cell_type": "code",
      "source": [
        "from matplotlib import pyplot as plt\n",
        "import seaborn as sn\n",
        "sn.heatmap(cm, annot=True, fmt='d')\n",
        "plt.xlabel('Predicted')\n",
        "plt.ylabel('Truth')"
      ],
      "metadata": {
        "colab": {
          "base_uri": "https://localhost:8080/",
          "height": 467
        },
        "id": "KngeCuQUI46f",
        "outputId": "5e57d112-4f6e-42bc-c27d-40fa06cb47fa"
      },
      "execution_count": 30,
      "outputs": [
        {
          "output_type": "execute_result",
          "data": {
            "text/plain": [
              "Text(50.722222222222214, 0.5, 'Truth')"
            ]
          },
          "metadata": {},
          "execution_count": 30
        },
        {
          "output_type": "display_data",
          "data": {
            "text/plain": [
              "<Figure size 640x480 with 2 Axes>"
            ],
            "image/png": "[encoded data removed]"
          },
          "metadata": {}
        }
      ]
    },
    {
      "cell_type": "code",
      "source": [
        "from sklearn.metrics import roc_curve, roc_auc_score"
      ],
      "metadata": {
        "id": "pFaN7aAUcS_d"
      },
      "execution_count": 31,
      "outputs": []
    },
    {
      "cell_type": "code",
      "source": [
        "r_probs = [0 for _ in range(len(Y_test))]"
      ],
      "metadata": {
        "id": "MayTXM2KeQAt"
      },
      "execution_count": 32,
      "outputs": []
    },
    {
      "cell_type": "code",
      "source": [
        "r_auc = roc_auc_score(Y_test, r_probs)\n",
        "lstM_auc = roc_auc_score(Y_test, predictions)\n"
      ],
      "metadata": {
        "id": "u-P9oOwtdywG"
      },
      "execution_count": 33,
      "outputs": []
    },
    {
      "cell_type": "code",
      "source": [
        "l_fpr , l_tpr, _  = roc_curve(Y_test, predictions)\n",
        "fpr, tpr, _ = roc_curve(Y_test, r_probs)\n"
      ],
      "metadata": {
        "id": "mkcgDUIZbE-H"
      },
      "execution_count": 34,
      "outputs": []
    },
    {
      "cell_type": "markdown",
      "source": [
        "#ROC-AUC CURVE"
      ],
      "metadata": {
        "id": "CAENlJu2mjre"
      }
    },
    {
      "cell_type": "code",
      "source": [
        "# plt.plot(fpr, tpr, linestyle='.', label='Prediction (AUROC = %0.3f)' % r_auc)\n",
        "# plt.plot(l_fpr, l_tpr, marker='__', label='Random Forest (AUROC = %0.3f)' % lstM_auc)\n",
        "\n",
        "plt.plot(fpr, tpr, linestyle='--', label='Random predictions (AUROC = %0.3f)' % r_auc)\n",
        "plt.plot(l_fpr, l_tpr, marker='.', label='LSTM (AUROC = %0.3f)' % lstM_auc)\n",
        "\n",
        "\n",
        "# Title\n",
        "plt.title('ROC Plot')\n",
        "# Axis labels\n",
        "plt.xlabel('False Positive Rate')\n",
        "plt.ylabel('True Positive Rate')\n",
        "# Show legend\n",
        "plt.legend() # \n",
        "# Show plot\n",
        "plt.show()"
      ],
      "metadata": {
        "colab": {
          "base_uri": "https://localhost:8080/",
          "height": 472
        },
        "id": "r6dLBKqUb3o5",
        "outputId": "9b1d022b-563d-426b-afbe-416b995691cd"
      },
      "execution_count": 35,
      "outputs": [
        {
          "output_type": "display_data",
          "data": {
            "text/plain": [
              "<Figure size 640x480 with 1 Axes>"
            ],
            "image/png": "[encoded data removed]"
          },
          "metadata": {}
        }
      ]
    },
    {
      "cell_type": "markdown",
      "metadata": {
        "id": "9g2B2QvBc99Q"
      },
      "source": [
        "# Saving & Loading the model"
      ]
    },
    {
      "cell_type": "markdown",
      "metadata": {
        "id": "-Xw6uC8yc99R"
      },
      "source": [
        "# Loading Pre-Trained Model"
      ]
    },
    {
      "cell_type": "code",
      "source": [
        "print(classification_report(Y_test, y_pred))"
      ],
      "metadata": {
        "colab": {
          "base_uri": "https://localhost:8080/"
        },
        "id": "dZzq0TyHgg3_",
        "outputId": "512bf47b-fccb-4351-f644-215df0407ce6"
      },
      "execution_count": 36,
      "outputs": [
        {
          "output_type": "stream",
          "name": "stdout",
          "text": [
            "              precision    recall  f1-score   support\n",
            "\n",
            "         0.0       0.86      0.86      0.86       155\n",
            "         1.0       0.82      0.81      0.81       115\n",
            "\n",
            "    accuracy                           0.84       270\n",
            "   macro avg       0.84      0.84      0.84       270\n",
            "weighted avg       0.84      0.84      0.84       270\n",
            "\n"
          ]
        }
      ]
    },
    {
      "cell_type": "code",
      "source": [],
      "metadata": {
        "id": "ZtGW2hDVg1i2"
      },
      "execution_count": 36,
      "outputs": []
    }
  ],
  "metadata": {
    "kernelspec": {
      "display_name": "Python 3.9.14 64-bit",
      "language": "python",
      "name": "python3"
    },
    "language_info": {
      "codemirror_mode": {
        "name": "ipython",
        "version": 3
      },
      "file_extension": ".py",
      "mimetype": "text/x-python",
      "name": "python",
      "nbconvert_exporter": "python",
      "pygments_lexer": "ipython3",
      "version": "3.9.14"
    },
    "vscode": {
      "interpreter": {
        "hash": "36cf16204b8548560b1c020c4e8fb5b57f0e4c58016f52f2d4be01e192833930"
      }
    },
    "colab": {
      "provenance": [],
      "gpuType": "T4"
    },
    "gpuClass": "standard",
    "accelerator": "TPU"
  },
  "nbformat": 4,
  "nbformat_minor": 0
}